{
 "cells": [
  {
   "cell_type": "markdown",
   "metadata": {},
   "source": [
    "# 1. Libraries, Configuration, and Importing Queries"
   ]
  },
  {
   "cell_type": "markdown",
   "metadata": {},
   "source": [
    "## 1.1 Libraries"
   ]
  },
  {
   "cell_type": "code",
   "execution_count": 1,
   "metadata": {},
   "outputs": [],
   "source": [
    "# selenium specific imports\n",
    "from selenium import webdriver\n",
    "from selenium.webdriver.support.ui import WebDriverWait\n",
    "from selenium.webdriver.support import expected_conditions as EC\n",
    "from selenium.webdriver.common.by import By\n",
    "from selenium.common.exceptions import TimeoutException\n",
    "\n",
    "# other imports\n",
    "import configparser\n",
    "import time\n",
    "import pandas as pd\n",
    "from datetime import datetime"
   ]
  },
  {
   "cell_type": "markdown",
   "metadata": {},
   "source": [
    "## 1.2 Configuration"
   ]
  },
  {
   "cell_type": "code",
   "execution_count": 2,
   "metadata": {},
   "outputs": [],
   "source": [
    "# configuration parser initialization\n",
    "config = configparser.ConfigParser()\n",
    "config.read('../config.ini')\n",
    "delay = 10 # waits for 10 seconds for the correct element to appeara"
   ]
  },
  {
   "cell_type": "markdown",
   "metadata": {},
   "source": [
    "## 1.3 Load csv of Category, Brand, and Product for Search "
   ]
  },
  {
   "cell_type": "code",
   "execution_count": 4,
   "metadata": {},
   "outputs": [],
   "source": [
    "query_df = pd.read_csv(\"../brand_company_product_list.csv\")"
   ]
  },
  {
   "cell_type": "code",
   "execution_count": null,
   "metadata": {},
   "outputs": [],
   "source": [
    "for i, row in df.iterrows():\n",
    "    ifor_val = something\n",
    "    if <condition>:\n",
    "        ifor_val = something_else\n",
    "    df.at[i,'ifor'] = ifor_val"
   ]
  },
  {
   "cell_type": "markdown",
   "metadata": {},
   "source": [
    "# 2. Custom Functions "
   ]
  },
  {
   "cell_type": "markdown",
   "metadata": {},
   "source": [
    "## 2.1 Profile Search (Advanced)\n",
    "\n",
    "- None of the search terms are case sensitive\n"
   ]
  },
  {
   "cell_type": "code",
   "execution_count": 2,
   "metadata": {},
   "outputs": [],
   "source": [
    "def advanced_profile_search(brand, must_have_list, or_list, not_list, num_months):\n",
    "    driver.get(\"https://app.streamhatchet.com/search/profilesearch\")\n",
    "    time.sleep(5)\n",
    "    \n",
    "    # click on advanced search and monthly data\n",
    "    WebDriverWait(driver, delay).until(EC.element_to_be_clickable((By.XPATH,\"/html[1]/body[1]/div[1]/div[2]/div[1]/main[1]/div[2]/div[2]/div[1]/div[1]/div[1]/div[1]/div[2]/form[1]/div[4]/div[1]/a[2]\"))).click()\n",
    "    driver.find_element_by_xpath(\"/html[1]/body[1]/div[1]/div[2]/div[1]/main[1]/div[2]/div[2]/div[1]/div[1]/div[1]/div[1]/div[2]/form[1]/div[1]/div[1]/div[1]/div[1]/a[2]\").click()\n",
    "\n",
    "    # Create empyy pd dataframe for scraped data\n",
    "    scraped_data_df = pd.DataFrame(columns=['brand', \"search_terms\", \"month\",\"unique_channels\", \"new_views\", \"hours_watched\"])\n",
    "\n",
    "    \n",
    "    # Ensures the data is from the most recent available\n",
    "    driver.find_element_by_xpath(\"//button[@class='ui icon button time_monthly']//i[@class='right arrow icon']\").click()\n",
    "    \n",
    "    # Enters must have terms into search\n",
    "    for must_have_item in must_have_list:\n",
    "        must_have_element = driver.find_element_by_id(\"chatKeywordsANDCurrent\")\n",
    "        must_have_element.send_keys(must_have_item)\n",
    "        driver.find_element_by_xpath(\"//div[@id='chatkeywordANDAdd']//i[@class='plus icon']\").click()\n",
    "    \n",
    "    # Enters or terms into search    \n",
    "    for or_item in or_list:\n",
    "        or_element = driver.find_element_by_id(\"chatKeywordsORCurrent\")\n",
    "        or_element.send_keys(or_item)\n",
    "        driver.find_element_by_xpath(\"//div[@id='chatkeywordORAdd']//i[@class='plus icon']\").click()\n",
    "    \n",
    "    # Enters not terms into serach    \n",
    "    for not_item in not_list:\n",
    "        not_element = driver.find_element_by_id(\"chatKeywordsNOTCurrent\")\n",
    "        not_element.send_keys(not_item)\n",
    "        driver.find_element_by_xpath(\"//div[@id='chatkeywordNOTAdd']//i[@class='plus icon']\").click()\n",
    "    \n",
    "    brand = brand\n",
    "    search_terms = \"must_have:\" + str(must_have_list) + \"or:\" + str(or_list) + \"not:\" + str(not_list)\n",
    "    \n",
    "    # Month by month iteration for obtaining metrics\n",
    "    for month_ind in range(0, num_months):\n",
    "        driver.find_element_by_xpath(\"/html[1]/body[1]/div[1]/div[2]/div[1]/main[1]/div[2]/div[2]/div[1]/div[1]/div[1]/div[1]/div[2]/form[1]/div[5]/div[1]/div[1]/div[1]/div[1]/button[1]/i[1]\").click()\n",
    "        body_element = driver.find_element_by_xpath(\"//html//body\")\n",
    "        WebDriverWait(driver, 30).until(lambda d: 'removeScroll' not in body_element.get_attribute('class'))\n",
    "        \n",
    "        month = driver.find_element_by_id(\"monthly_label\").text\n",
    "        unique_channels = driver.find_element_by_id(\"totalChannelsFound\").get_attribute(\"title\")\n",
    "        new_views = driver.find_element_by_id(\"topStatsNewViews\").get_attribute(\"title\")\n",
    "        hours_watched = driver.find_element_by_id(\"topStatsTimeWatched\").get_attribute(\"title\")\n",
    "        \n",
    "        last_row_ind = len(scraped_data_df)\n",
    "        \n",
    "        # Add data to the bottom row of the dataframe\n",
    "        scraped_data_df.loc[last_row_ind] = [brand, search_terms, month, unique_channels, new_views, hours_watched]\n",
    "        \n",
    "        # If the data is the same month-to-month (Indicative of reaching date range limitation), then exit the loop\n",
    "        if sum(scraped_data_df.duplicated()) != 0:\n",
    "            scraped_data_df = scraped_data_df[:-1]\n",
    "            break\n",
    "        \n",
    "        driver.find_element_by_xpath(\"//button[@class='ui icon button time_monthly left']//i[@class='left arrow icon']\").click()\n",
    "    \n",
    "    return(scraped_data_df)"
   ]
  },
  {
   "cell_type": "markdown",
   "metadata": {},
   "source": [
    "## 2.2 Stream Title Search "
   ]
  },
  {
   "cell_type": "code",
   "execution_count": 3,
   "metadata": {},
   "outputs": [
    {
     "data": {
      "text/plain": [
       "'2019-07-10'"
      ]
     },
     "execution_count": 3,
     "metadata": {},
     "output_type": "execute_result"
    }
   ],
   "source": [
    "datetime.today().strftime('%Y-%m-%d')"
   ]
  },
  {
   "cell_type": "markdown",
   "metadata": {},
   "source": [
    "# 3. Login "
   ]
  },
  {
   "cell_type": "code",
   "execution_count": 4,
   "metadata": {},
   "outputs": [],
   "source": [
    "driver = webdriver.Chrome()\n",
    "driver.get(\"https://app.streamhatchet.com/\")\n",
    "driver.find_element_by_id(\"cookiesAccepted\").click()\n",
    "\n",
    "username = driver.find_element_by_name(\"loginEmail\")\n",
    "username.clear()\n",
    "username.send_keys(config['login_credentials']['email'])\n",
    "\n",
    "password = driver.find_element_by_name(\"loginPassword\")\n",
    "password.clear()\n",
    "password.send_keys(config['login_credentials']['password'])\n",
    "\n",
    "driver.find_element_by_xpath(\"//button[contains(text(),'Login')]\").click()\n",
    "time.sleep(3) # sleep for 3 seconds to let the page load"
   ]
  },
  {
   "cell_type": "markdown",
   "metadata": {},
   "source": [
    "# 4. Test Searches"
   ]
  },
  {
   "cell_type": "markdown",
   "metadata": {},
   "source": [
    "## 4.1 Profile Search Advanced "
   ]
  },
  {
   "cell_type": "code",
   "execution_count": 5,
   "metadata": {},
   "outputs": [],
   "source": [
    "brand_test = \"Coke\"\n",
    "must_have_test = [\"Coke\"]\n",
    "or_test = [\"Coca\", \"Cola\"]\n",
    "not_test = [\"cocaine\"]\n",
    "\n",
    "profile_df = advanced_profile_search(brand_test, must_have_test, or_test, not_test, 36) # get's the past year of data"
   ]
  },
  {
   "cell_type": "markdown",
   "metadata": {},
   "source": [
    "## 4.2 Stream Title Search"
   ]
  },
  {
   "cell_type": "code",
   "execution_count": 6,
   "metadata": {},
   "outputs": [],
   "source": [
    "# chat_search(\"Coke\", \"Coca Cola\", 5)"
   ]
  },
  {
   "cell_type": "markdown",
   "metadata": {},
   "source": [
    "# 5. Dataframe with Scraped Data "
   ]
  },
  {
   "cell_type": "code",
   "execution_count": 7,
   "metadata": {},
   "outputs": [
    {
     "data": {
      "text/html": [
       "<div>\n",
       "<style scoped>\n",
       "    .dataframe tbody tr th:only-of-type {\n",
       "        vertical-align: middle;\n",
       "    }\n",
       "\n",
       "    .dataframe tbody tr th {\n",
       "        vertical-align: top;\n",
       "    }\n",
       "\n",
       "    .dataframe thead th {\n",
       "        text-align: right;\n",
       "    }\n",
       "</style>\n",
       "<table border=\"1\" class=\"dataframe\">\n",
       "  <thead>\n",
       "    <tr style=\"text-align: right;\">\n",
       "      <th></th>\n",
       "      <th>brand</th>\n",
       "      <th>search_terms</th>\n",
       "      <th>month</th>\n",
       "      <th>unique_channels</th>\n",
       "      <th>new_views</th>\n",
       "      <th>hours_watched</th>\n",
       "    </tr>\n",
       "  </thead>\n",
       "  <tbody>\n",
       "    <tr>\n",
       "      <th>0</th>\n",
       "      <td>Coke</td>\n",
       "      <td>must_have:['Coke']or:['Coca', 'Cola']not:['coc...</td>\n",
       "      <td>May 2019</td>\n",
       "      <td>12</td>\n",
       "      <td>673,858</td>\n",
       "      <td>536,066</td>\n",
       "    </tr>\n",
       "    <tr>\n",
       "      <th>1</th>\n",
       "      <td>Coke</td>\n",
       "      <td>must_have:['Coke']or:['Coca', 'Cola']not:['coc...</td>\n",
       "      <td>April 2019</td>\n",
       "      <td>15</td>\n",
       "      <td>799,239</td>\n",
       "      <td>677,502</td>\n",
       "    </tr>\n",
       "    <tr>\n",
       "      <th>2</th>\n",
       "      <td>Coke</td>\n",
       "      <td>must_have:['Coke']or:['Coca', 'Cola']not:['coc...</td>\n",
       "      <td>March 2019</td>\n",
       "      <td>11</td>\n",
       "      <td>4,523</td>\n",
       "      <td>2,211</td>\n",
       "    </tr>\n",
       "    <tr>\n",
       "      <th>3</th>\n",
       "      <td>Coke</td>\n",
       "      <td>must_have:['Coke']or:['Coca', 'Cola']not:['coc...</td>\n",
       "      <td>February 2019</td>\n",
       "      <td>10</td>\n",
       "      <td>963,981</td>\n",
       "      <td>643,176</td>\n",
       "    </tr>\n",
       "    <tr>\n",
       "      <th>4</th>\n",
       "      <td>Coke</td>\n",
       "      <td>must_have:['Coke']or:['Coca', 'Cola']not:['coc...</td>\n",
       "      <td>January 2019</td>\n",
       "      <td>14</td>\n",
       "      <td>840,302</td>\n",
       "      <td>615,483</td>\n",
       "    </tr>\n",
       "    <tr>\n",
       "      <th>5</th>\n",
       "      <td>Coke</td>\n",
       "      <td>must_have:['Coke']or:['Coca', 'Cola']not:['coc...</td>\n",
       "      <td>December 2018</td>\n",
       "      <td>12</td>\n",
       "      <td>886,810</td>\n",
       "      <td>599,788</td>\n",
       "    </tr>\n",
       "    <tr>\n",
       "      <th>6</th>\n",
       "      <td>Coke</td>\n",
       "      <td>must_have:['Coke']or:['Coca', 'Cola']not:['coc...</td>\n",
       "      <td>November 2018</td>\n",
       "      <td>10</td>\n",
       "      <td>1,004,488</td>\n",
       "      <td>647,921</td>\n",
       "    </tr>\n",
       "    <tr>\n",
       "      <th>7</th>\n",
       "      <td>Coke</td>\n",
       "      <td>must_have:['Coke']or:['Coca', 'Cola']not:['coc...</td>\n",
       "      <td>October 2018</td>\n",
       "      <td>11</td>\n",
       "      <td>1,191,977</td>\n",
       "      <td>937,965</td>\n",
       "    </tr>\n",
       "    <tr>\n",
       "      <th>8</th>\n",
       "      <td>Coke</td>\n",
       "      <td>must_have:['Coke']or:['Coca', 'Cola']not:['coc...</td>\n",
       "      <td>September 2018</td>\n",
       "      <td>6</td>\n",
       "      <td>899,761</td>\n",
       "      <td>471,050</td>\n",
       "    </tr>\n",
       "    <tr>\n",
       "      <th>9</th>\n",
       "      <td>Coke</td>\n",
       "      <td>must_have:['Coke']or:['Coca', 'Cola']not:['coc...</td>\n",
       "      <td>August 2018</td>\n",
       "      <td>9</td>\n",
       "      <td>1,666,400</td>\n",
       "      <td>1,064,402</td>\n",
       "    </tr>\n",
       "    <tr>\n",
       "      <th>10</th>\n",
       "      <td>Coke</td>\n",
       "      <td>must_have:['Coke']or:['Coca', 'Cola']not:['coc...</td>\n",
       "      <td>July 2018</td>\n",
       "      <td>10</td>\n",
       "      <td>1,141,308</td>\n",
       "      <td>760,205</td>\n",
       "    </tr>\n",
       "    <tr>\n",
       "      <th>11</th>\n",
       "      <td>Coke</td>\n",
       "      <td>must_have:['Coke']or:['Coca', 'Cola']not:['coc...</td>\n",
       "      <td>June 2018</td>\n",
       "      <td>6</td>\n",
       "      <td>1,352,590</td>\n",
       "      <td>867,588</td>\n",
       "    </tr>\n",
       "    <tr>\n",
       "      <th>12</th>\n",
       "      <td>Coke</td>\n",
       "      <td>must_have:['Coke']or:['Coca', 'Cola']not:['coc...</td>\n",
       "      <td>May 2018</td>\n",
       "      <td>10</td>\n",
       "      <td>1,291,187</td>\n",
       "      <td>863,525</td>\n",
       "    </tr>\n",
       "    <tr>\n",
       "      <th>13</th>\n",
       "      <td>Coke</td>\n",
       "      <td>must_have:['Coke']or:['Coca', 'Cola']not:['coc...</td>\n",
       "      <td>April 2018</td>\n",
       "      <td>10</td>\n",
       "      <td>1,671,345</td>\n",
       "      <td>1,048,337</td>\n",
       "    </tr>\n",
       "    <tr>\n",
       "      <th>14</th>\n",
       "      <td>Coke</td>\n",
       "      <td>must_have:['Coke']or:['Coca', 'Cola']not:['coc...</td>\n",
       "      <td>March 2018</td>\n",
       "      <td>9</td>\n",
       "      <td>2,018,697</td>\n",
       "      <td>1,202,218</td>\n",
       "    </tr>\n",
       "    <tr>\n",
       "      <th>15</th>\n",
       "      <td>Coke</td>\n",
       "      <td>must_have:['Coke']or:['Coca', 'Cola']not:['coc...</td>\n",
       "      <td>February 2018</td>\n",
       "      <td>11</td>\n",
       "      <td>1,582,917</td>\n",
       "      <td>719,301</td>\n",
       "    </tr>\n",
       "    <tr>\n",
       "      <th>16</th>\n",
       "      <td>Coke</td>\n",
       "      <td>must_have:['Coke']or:['Coca', 'Cola']not:['coc...</td>\n",
       "      <td>January 2018</td>\n",
       "      <td>9</td>\n",
       "      <td>1,481</td>\n",
       "      <td>774</td>\n",
       "    </tr>\n",
       "    <tr>\n",
       "      <th>17</th>\n",
       "      <td>Coke</td>\n",
       "      <td>must_have:['Coke']or:['Coca', 'Cola']not:['coc...</td>\n",
       "      <td>December 2017</td>\n",
       "      <td>11</td>\n",
       "      <td>2,242,832</td>\n",
       "      <td>2,069,920</td>\n",
       "    </tr>\n",
       "    <tr>\n",
       "      <th>18</th>\n",
       "      <td>Coke</td>\n",
       "      <td>must_have:['Coke']or:['Coca', 'Cola']not:['coc...</td>\n",
       "      <td>November 2017</td>\n",
       "      <td>10</td>\n",
       "      <td>1,647,884</td>\n",
       "      <td>1,870,112</td>\n",
       "    </tr>\n",
       "    <tr>\n",
       "      <th>19</th>\n",
       "      <td>Coke</td>\n",
       "      <td>must_have:['Coke']or:['Coca', 'Cola']not:['coc...</td>\n",
       "      <td>October 2017</td>\n",
       "      <td>13</td>\n",
       "      <td>1,302,893</td>\n",
       "      <td>1,035,302</td>\n",
       "    </tr>\n",
       "  </tbody>\n",
       "</table>\n",
       "</div>"
      ],
      "text/plain": [
       "   brand                                       search_terms           month  \\\n",
       "0   Coke  must_have:['Coke']or:['Coca', 'Cola']not:['coc...        May 2019   \n",
       "1   Coke  must_have:['Coke']or:['Coca', 'Cola']not:['coc...      April 2019   \n",
       "2   Coke  must_have:['Coke']or:['Coca', 'Cola']not:['coc...      March 2019   \n",
       "3   Coke  must_have:['Coke']or:['Coca', 'Cola']not:['coc...   February 2019   \n",
       "4   Coke  must_have:['Coke']or:['Coca', 'Cola']not:['coc...    January 2019   \n",
       "5   Coke  must_have:['Coke']or:['Coca', 'Cola']not:['coc...   December 2018   \n",
       "6   Coke  must_have:['Coke']or:['Coca', 'Cola']not:['coc...   November 2018   \n",
       "7   Coke  must_have:['Coke']or:['Coca', 'Cola']not:['coc...    October 2018   \n",
       "8   Coke  must_have:['Coke']or:['Coca', 'Cola']not:['coc...  September 2018   \n",
       "9   Coke  must_have:['Coke']or:['Coca', 'Cola']not:['coc...     August 2018   \n",
       "10  Coke  must_have:['Coke']or:['Coca', 'Cola']not:['coc...       July 2018   \n",
       "11  Coke  must_have:['Coke']or:['Coca', 'Cola']not:['coc...       June 2018   \n",
       "12  Coke  must_have:['Coke']or:['Coca', 'Cola']not:['coc...        May 2018   \n",
       "13  Coke  must_have:['Coke']or:['Coca', 'Cola']not:['coc...      April 2018   \n",
       "14  Coke  must_have:['Coke']or:['Coca', 'Cola']not:['coc...      March 2018   \n",
       "15  Coke  must_have:['Coke']or:['Coca', 'Cola']not:['coc...   February 2018   \n",
       "16  Coke  must_have:['Coke']or:['Coca', 'Cola']not:['coc...    January 2018   \n",
       "17  Coke  must_have:['Coke']or:['Coca', 'Cola']not:['coc...   December 2017   \n",
       "18  Coke  must_have:['Coke']or:['Coca', 'Cola']not:['coc...   November 2017   \n",
       "19  Coke  must_have:['Coke']or:['Coca', 'Cola']not:['coc...    October 2017   \n",
       "\n",
       "   unique_channels  new_views hours_watched  \n",
       "0               12    673,858       536,066  \n",
       "1               15    799,239       677,502  \n",
       "2               11      4,523         2,211  \n",
       "3               10    963,981       643,176  \n",
       "4               14    840,302       615,483  \n",
       "5               12    886,810       599,788  \n",
       "6               10  1,004,488       647,921  \n",
       "7               11  1,191,977       937,965  \n",
       "8                6    899,761       471,050  \n",
       "9                9  1,666,400     1,064,402  \n",
       "10              10  1,141,308       760,205  \n",
       "11               6  1,352,590       867,588  \n",
       "12              10  1,291,187       863,525  \n",
       "13              10  1,671,345     1,048,337  \n",
       "14               9  2,018,697     1,202,218  \n",
       "15              11  1,582,917       719,301  \n",
       "16               9      1,481           774  \n",
       "17              11  2,242,832     2,069,920  \n",
       "18              10  1,647,884     1,870,112  \n",
       "19              13  1,302,893     1,035,302  "
      ]
     },
     "execution_count": 7,
     "metadata": {},
     "output_type": "execute_result"
    }
   ],
   "source": [
    "profile_df"
   ]
  },
  {
   "cell_type": "markdown",
   "metadata": {},
   "source": [
    "- This indicates that the Profile Search Data has data from October 2017 to now. "
   ]
  }
 ],
 "metadata": {
  "kernelspec": {
   "display_name": "Python 3",
   "language": "python",
   "name": "python3"
  },
  "language_info": {
   "codemirror_mode": {
    "name": "ipython",
    "version": 3
   },
   "file_extension": ".py",
   "mimetype": "text/x-python",
   "name": "python",
   "nbconvert_exporter": "python",
   "pygments_lexer": "ipython3",
   "version": "3.7.3"
  }
 },
 "nbformat": 4,
 "nbformat_minor": 2
}
