{
 "cells": [
  {
   "cell_type": "markdown",
   "metadata": {
    "pycharm": {
     "name": "#%% md\n"
    }
   },
   "source": [
    "# 1. Libraries, Configuration, and Importing Queries"
   ]
  },
  {
   "cell_type": "markdown",
   "metadata": {
    "pycharm": {
     "name": "#%% md\n"
    }
   },
   "source": [
    "## 1.1 Libraries"
   ]
  },
  {
   "cell_type": "code",
   "execution_count": 2,
   "metadata": {
    "ExecuteTime": {
     "end_time": "2019-07-25T18:58:06.765615Z",
     "start_time": "2019-07-25T18:58:06.760532Z"
    },
    "pycharm": {
     "is_executing": false,
     "name": "#%%\n"
    }
   },
   "outputs": [],
   "source": [
    "import configparser\n",
    "import time\n",
    "import pandas as pd\n",
    "import os\n",
    "\n",
    "# selenium specific imports\n",
    "from selenium import webdriver\n",
    "from selenium.webdriver.common.keys import Keys\n",
    "from selenium.webdriver.support.ui import WebDriverWait\n",
    "from selenium.webdriver.support import expected_conditions as EC\n",
    "from selenium.webdriver.common.by import By"
   ]
  },
  {
   "cell_type": "markdown",
   "metadata": {},
   "source": [
    "## 1.2 Configuration"
   ]
  },
  {
   "cell_type": "code",
   "execution_count": 3,
   "metadata": {
    "ExecuteTime": {
     "end_time": "2019-07-25T18:58:07.295232Z",
     "start_time": "2019-07-25T18:58:07.252059Z"
    },
    "pycharm": {
     "is_executing": false,
     "name": "#%%\n"
    }
   },
   "outputs": [],
   "source": [
    "# configuration parser initialization\n",
    "config = configparser.ConfigParser()\n",
    "config.read('../config.ini')\n",
    "delay = 10 # waits for 10 seconds for the correct element to appeara\n",
    "\n",
    "stream_data = pd.DataFrame(columns=['Title', 'Streamer', 'Date', 'Hours Watched', 'Word'])"
   ]
  },
  {
   "cell_type": "markdown",
   "metadata": {},
   "source": [
    "## 1.3 Load csv of Brand Names Search Queries\n",
    "\n",
    "-  Brand queries in conjuction with slight modifications were systematically created by Catherine C. Pollack at Dartmouth College. "
   ]
  },
  {
   "cell_type": "code",
   "execution_count": 4,
   "metadata": {
    "ExecuteTime": {
     "end_time": "2019-07-25T18:58:07.699368Z",
     "start_time": "2019-07-25T18:58:07.678352Z"
    },
    "pycharm": {
     "is_executing": false,
     "name": "#%%\n"
    }
   },
   "outputs": [],
   "source": [
    "query_df = pd.read_csv(\"../data/queries/Final_Words_List.csv\")"
   ]
  },
  {
   "cell_type": "code",
   "execution_count": 5,
   "metadata": {
    "ExecuteTime": {
     "end_time": "2019-07-25T18:58:08.069078Z",
     "start_time": "2019-07-25T18:58:08.023805Z"
    },
    "pycharm": {
     "is_executing": false,
     "name": "#%%\n"
    }
   },
   "outputs": [
    {
     "data": {
      "text/html": [
       "<div>\n",
       "<style scoped>\n",
       "    .dataframe tbody tr th:only-of-type {\n",
       "        vertical-align: middle;\n",
       "    }\n",
       "\n",
       "    .dataframe tbody tr th {\n",
       "        vertical-align: top;\n",
       "    }\n",
       "\n",
       "    .dataframe thead th {\n",
       "        text-align: right;\n",
       "    }\n",
       "</style>\n",
       "<table border=\"1\" class=\"dataframe\">\n",
       "  <thead>\n",
       "    <tr style=\"text-align: right;\">\n",
       "      <th></th>\n",
       "      <th>search_query</th>\n",
       "    </tr>\n",
       "  </thead>\n",
       "  <tbody>\n",
       "    <tr>\n",
       "      <th>count</th>\n",
       "      <td>670</td>\n",
       "    </tr>\n",
       "    <tr>\n",
       "      <th>unique</th>\n",
       "      <td>670</td>\n",
       "    </tr>\n",
       "    <tr>\n",
       "      <th>top</th>\n",
       "      <td>KozyShak</td>\n",
       "    </tr>\n",
       "    <tr>\n",
       "      <th>freq</th>\n",
       "      <td>1</td>\n",
       "    </tr>\n",
       "  </tbody>\n",
       "</table>\n",
       "</div>"
      ],
      "text/plain": [
       "       search_query\n",
       "count           670\n",
       "unique          670\n",
       "top        KozyShak\n",
       "freq              1"
      ]
     },
     "execution_count": 5,
     "metadata": {},
     "output_type": "execute_result"
    }
   ],
   "source": [
    "query_df.describe()"
   ]
  },
  {
   "cell_type": "markdown",
   "metadata": {},
   "source": [
    "# 2. Custom Functions "
   ]
  },
  {
   "cell_type": "markdown",
   "metadata": {},
   "source": [
    "## 2.1 Login"
   ]
  },
  {
   "cell_type": "code",
   "execution_count": 6,
   "metadata": {
    "ExecuteTime": {
     "end_time": "2019-07-25T18:58:11.308831Z",
     "start_time": "2019-07-25T18:58:11.302326Z"
    },
    "pycharm": {
     "is_executing": false
    }
   },
   "outputs": [],
   "source": [
    "def login_streamhatchet():\n",
    "    driver.get(\"https://app.streamhatchet.com/\")\n",
    "    driver.find_element_by_id(\"cookiesAccepted\").click()\n",
    "\n",
    "    username = driver.find_element_by_name(\"loginEmail\")\n",
    "    username.clear()\n",
    "    username.send_keys(config['login_credentials']['email'])\n",
    "\n",
    "    password = driver.find_element_by_name(\"loginPassword\")\n",
    "    password.clear()\n",
    "    password.send_keys(config['login_credentials']['password'])\n",
    "\n",
    "    driver.find_element_by_xpath(\"//button[contains(text(),'Login')]\").click()\n",
    "    time.sleep(3) # sleep for 3 seconds to let the page load"
   ]
  },
  {
   "cell_type": "markdown",
   "metadata": {},
   "source": [
    "## 2.1 Stream Title Search"
   ]
  },
  {
   "cell_type": "code",
   "execution_count": 7,
   "metadata": {
    "ExecuteTime": {
     "end_time": "2019-07-25T18:58:13.330018Z",
     "start_time": "2019-07-25T18:58:13.303122Z"
    },
    "pycharm": {
     "is_executing": false
    }
   },
   "outputs": [],
   "source": [
    "def stream_title_search(query, incomplete_queries_list, df):\n",
    "    driver.get(\"https://app.streamhatchet.com/search/toolstatus\")\n",
    "    time.sleep(1)\n",
    "    \n",
    "    # Enters query into 'Stream title query'\n",
    "    stream_title_query_input = WebDriverWait(driver, delay).until(EC.element_to_be_clickable((By.XPATH,\"//input[@id='status-query']\")))\n",
    "    stream_title_query_input.send_keys(query)\n",
    "\n",
    "    # Makes twitch the only platform to search\n",
    "    platform_input = WebDriverWait(driver, delay).until(EC.element_to_be_clickable((By.XPATH,\"//input[@class='search']\")))\n",
    "    platform_input.click()\n",
    "    platform_input.send_keys(Keys.BACKSPACE)\n",
    "    platform_input.send_keys(Keys.BACKSPACE)\n",
    "    platform_input.send_keys(Keys.BACKSPACE)\n",
    "\n",
    "    # Click to Expand Date Options\n",
    "    driver.find_element_by_xpath(\"//div[@id='NewRangePicker']\").click()\n",
    "    \n",
    "    # change the hours and minutes to 0:00 for date from and to \n",
    "    driver.find_element_by_xpath(\"//div[@class='calendar left']//select[@class='hourselect']//option[1]\").click()\n",
    "    driver.find_element_by_xpath(\"//div[@class='calendar left']//option[contains(text(),'00')]\").click()\n",
    "    driver.find_element_by_xpath(\"//div[@class='calendar right']//select[@class='hourselect']//option[1]\").click()\n",
    "    driver.find_element_by_xpath(\"//div[@class='calendar right']//option[contains(text(),'00')]\").click()\n",
    "\n",
    "        # Keep clicking on left_arrow\n",
    "    while driver.find_element_by_xpath(\"//i[@id='icon-down-New']\").is_displayed() == True:\n",
    "        try:\n",
    "            driver.find_element_by_xpath(\"//i[@class='fa fa-chevron-left glyphicon glyphicon-chevron-left']\").click()\n",
    "        except:\n",
    "            break\n",
    "                \n",
    "     # Click on the very first day (January 2, 2019), because for some reaosn it doesn't like 01.01.19 \n",
    "    driver.find_element_by_xpath(\"//div[@class='calendar left']//td[contains(text(), '2')]\").click()    \n",
    "    \n",
    "    # Click on the right arrow to go all the way to the end\n",
    "    while driver.find_element_by_xpath(\"//i[@id='icon-down-New']\").is_displayed() == True:\n",
    "        try:\n",
    "            driver.find_element_by_xpath(\"//i[@class='fa fa-chevron-right glyphicon glyphicon-chevron-right']\").click()\n",
    "        except:\n",
    "           break\n",
    "    \n",
    "    #Code was run on July 22nd, so that's why the last day is 22nd\n",
    "    driver.find_element_by_xpath(\"//div[@class='calendar right']//td[contains(text(), '22')]\").click()\n",
    "\n",
    "    # Runs the search\n",
    "    driver.find_element_by_xpath(\"//button[@class='applyBtn btn btn-sm btn-success ui google plus button']\").click()\n",
    "    run_button = WebDriverWait(driver, delay).until(EC.element_to_be_clickable((By.XPATH,\"//button[@class='medium ui google plus submit button']\")))\n",
    "    run_button.click()\n",
    "    \n",
    "    # Scrape the Number of Titles\n",
    "    num_titles = WebDriverWait(driver, delay).until(EC.visibility_of_element_located((By.XPATH,\"//p[@id='messages-count']\")))\n",
    "    num_titles = num_titles.text\n",
    "    \n",
    "    #Next few lines of code pull the data table on a webpage that dynamically scrolls -- thanks, StackOverflow!\n",
    "    last_height = driver.execute_script(\"return document.body.scrollHeight\")\n",
    "    \n",
    "    while True:\n",
    "        #Scroll down to bottom\n",
    "        driver.execute_script(\"window.scrollTo(0, document.body.scrollHeight);\")\n",
    "        \n",
    "        #Wait to load page\n",
    "        time.sleep(1)\n",
    "        \n",
    "        #Calculate new scroll height and compare with last scroll height\n",
    "        new_height = driver.execute_script(\"return document.body.scrollHeight\")\n",
    "        if new_height == last_height:\n",
    "            break\n",
    "        last_height = new_height\n",
    "    \n",
    "    # Extracts Table as exports it as large text file\n",
    "    df = driver.find_element_by_xpath(\"//table/tbody\").text.split(\"\\n\")\n",
    "\n",
    "    \n",
    "    #table_id = driver.find_element(By.ID, 'table_discovery')\n",
    "    #rows = table_id.find_elements(By.TAG_NAME, \"tr\")\n",
    "    #for row in rows:\n",
    "    #    col = row.find_elements(By.TAG_NAME, \"td\")[0]\n",
    "    #    print(col.text)\n",
    "        \n",
    "    return(num_titles, df)\n",
    "\n",
    "    \n",
    "    # Keep clicking on right_arrow\n",
    "#    while driver.find_element_by_xpath(\"//i[@id='icon-down-New']\").is_displayed() == True:\n",
    "#        try:\n",
    "#            driver.find_element_by_xpath(\"//i[@class='fa fa-chevron-right glyphicon glyphicon-chevron-right']\").click()\n",
    "#        except:\n",
    "#            break\n",
    "                \n",
    "    \n",
    "    # Click on first day of the month:\n",
    "#    time.sleep(5)\n",
    "#    driver.find_element_by_xpath(\"//div[@class='calendar left']//td[contains(text(), '1')]\").click()\n",
    "#    time.sleep(5)\n",
    "#    driver.find_element_by_xpath(\"//div[@class='calendar right']//td[contains(text(), '1')]\").click()\n",
    "#    time.sleep(5)\n",
    "\n",
    "    # Runs the search\n",
    "#    driver.find_element_by_xpath(\"//button[@class='applyBtn btn btn-sm btn-success ui google plus button']\").click()\n",
    "#    run_button = WebDriverWait(driver, delay).until(EC.element_to_be_clickable((By.XPATH,\"//button[@class='medium ui google plus submit button']\")))\n",
    "#    run_button.click()\n",
    "    \n",
    "    # Scrape the Number of Titles\n",
    "#    num_titles = WebDriverWait(driver, delay).until(EC.visibility_of_element_located((By.XPATH,\"//p[@id='messages-count']\")))\n",
    "#    num_titles = num_titles.text\n",
    "\n",
    "    # create a row_dict and append it to the df\n",
    "#    row_dict = {\n",
    "#        'query': query,\n",
    "#        'month': \"Fill in after, the date selection works properly\",\n",
    "#        'num_titles':num_titles\n",
    "#    }\n",
    "\n",
    "#    df = df.append(row_dict, ignore_index = True)\n",
    "\n",
    "        \n",
    "#    incomplete_queries_list.append(query)\n",
    "        \n",
    "#    return df\n",
    "        "
   ]
  },
  {
   "cell_type": "markdown",
   "metadata": {},
   "source": [
    "# 3. Run Stream Titles Search"
   ]
  },
  {
   "cell_type": "code",
   "execution_count": 8,
   "metadata": {
    "ExecuteTime": {
     "end_time": "2019-07-25T18:58:14.097408Z",
     "start_time": "2019-07-25T18:58:14.053815Z"
    },
    "pycharm": {
     "is_executing": true
    }
   },
   "outputs": [
    {
     "ename": "WebDriverException",
     "evalue": "Message: 'chromedriver.exe' executable needs to be in PATH. Please see https://sites.google.com/a/chromium.org/chromedriver/home\n",
     "output_type": "error",
     "traceback": [
      "\u001b[0;31m---------------------------------------------------------------------------\u001b[0m",
      "\u001b[0;31mFileNotFoundError\u001b[0m                         Traceback (most recent call last)",
      "\u001b[0;32m~/.local/share/virtualenvs/ds_streamhatchet-8y_cdCbo/lib/python3.7/site-packages/selenium/webdriver/common/service.py\u001b[0m in \u001b[0;36mstart\u001b[0;34m(self)\u001b[0m\n\u001b[1;32m     75\u001b[0m                                             \u001b[0mstderr\u001b[0m\u001b[0;34m=\u001b[0m\u001b[0mself\u001b[0m\u001b[0;34m.\u001b[0m\u001b[0mlog_file\u001b[0m\u001b[0;34m,\u001b[0m\u001b[0;34m\u001b[0m\u001b[0;34m\u001b[0m\u001b[0m\n\u001b[0;32m---> 76\u001b[0;31m                                             stdin=PIPE)\n\u001b[0m\u001b[1;32m     77\u001b[0m         \u001b[0;32mexcept\u001b[0m \u001b[0mTypeError\u001b[0m\u001b[0;34m:\u001b[0m\u001b[0;34m\u001b[0m\u001b[0;34m\u001b[0m\u001b[0m\n",
      "\u001b[0;32m/miniconda3/lib/python3.7/subprocess.py\u001b[0m in \u001b[0;36m__init__\u001b[0;34m(self, args, bufsize, executable, stdin, stdout, stderr, preexec_fn, close_fds, shell, cwd, env, universal_newlines, startupinfo, creationflags, restore_signals, start_new_session, pass_fds, encoding, errors, text)\u001b[0m\n\u001b[1;32m    774\u001b[0m                                 \u001b[0merrread\u001b[0m\u001b[0;34m,\u001b[0m \u001b[0merrwrite\u001b[0m\u001b[0;34m,\u001b[0m\u001b[0;34m\u001b[0m\u001b[0;34m\u001b[0m\u001b[0m\n\u001b[0;32m--> 775\u001b[0;31m                                 restore_signals, start_new_session)\n\u001b[0m\u001b[1;32m    776\u001b[0m         \u001b[0;32mexcept\u001b[0m\u001b[0;34m:\u001b[0m\u001b[0;34m\u001b[0m\u001b[0;34m\u001b[0m\u001b[0m\n",
      "\u001b[0;32m/miniconda3/lib/python3.7/subprocess.py\u001b[0m in \u001b[0;36m_execute_child\u001b[0;34m(self, args, executable, preexec_fn, close_fds, pass_fds, cwd, env, startupinfo, creationflags, shell, p2cread, p2cwrite, c2pread, c2pwrite, errread, errwrite, restore_signals, start_new_session)\u001b[0m\n\u001b[1;32m   1521\u001b[0m                             \u001b[0merr_msg\u001b[0m \u001b[0;34m+=\u001b[0m \u001b[0;34m': '\u001b[0m \u001b[0;34m+\u001b[0m \u001b[0mrepr\u001b[0m\u001b[0;34m(\u001b[0m\u001b[0merr_filename\u001b[0m\u001b[0;34m)\u001b[0m\u001b[0;34m\u001b[0m\u001b[0;34m\u001b[0m\u001b[0m\n\u001b[0;32m-> 1522\u001b[0;31m                     \u001b[0;32mraise\u001b[0m \u001b[0mchild_exception_type\u001b[0m\u001b[0;34m(\u001b[0m\u001b[0merrno_num\u001b[0m\u001b[0;34m,\u001b[0m \u001b[0merr_msg\u001b[0m\u001b[0;34m,\u001b[0m \u001b[0merr_filename\u001b[0m\u001b[0;34m)\u001b[0m\u001b[0;34m\u001b[0m\u001b[0;34m\u001b[0m\u001b[0m\n\u001b[0m\u001b[1;32m   1523\u001b[0m                 \u001b[0;32mraise\u001b[0m \u001b[0mchild_exception_type\u001b[0m\u001b[0;34m(\u001b[0m\u001b[0merr_msg\u001b[0m\u001b[0;34m)\u001b[0m\u001b[0;34m\u001b[0m\u001b[0;34m\u001b[0m\u001b[0m\n",
      "\u001b[0;31mFileNotFoundError\u001b[0m: [Errno 2] No such file or directory: '/Users/jasonkim/Desktop/ds_streamhatchet/notebooks/chromedriver.exe': '/Users/jasonkim/Desktop/ds_streamhatchet/notebooks/chromedriver.exe'",
      "\nDuring handling of the above exception, another exception occurred:\n",
      "\u001b[0;31mWebDriverException\u001b[0m                        Traceback (most recent call last)",
      "\u001b[0;32m<ipython-input-8-39654572ff1c>\u001b[0m in \u001b[0;36m<module>\u001b[0;34m\u001b[0m\n\u001b[1;32m      1\u001b[0m \u001b[0mdf\u001b[0m \u001b[0;34m=\u001b[0m \u001b[0;34m[\u001b[0m\u001b[0;34m]\u001b[0m\u001b[0;34m\u001b[0m\u001b[0;34m\u001b[0m\u001b[0m\n\u001b[1;32m      2\u001b[0m \u001b[0mincomplete_queries_list\u001b[0m \u001b[0;34m=\u001b[0m \u001b[0;34m[\u001b[0m\u001b[0;34m]\u001b[0m\u001b[0;34m\u001b[0m\u001b[0;34m\u001b[0m\u001b[0m\n\u001b[0;32m----> 3\u001b[0;31m \u001b[0mdriver\u001b[0m \u001b[0;34m=\u001b[0m \u001b[0mwebdriver\u001b[0m\u001b[0;34m.\u001b[0m\u001b[0mChrome\u001b[0m\u001b[0;34m(\u001b[0m\u001b[0mexecutable_path\u001b[0m \u001b[0;34m=\u001b[0m \u001b[0mos\u001b[0m\u001b[0;34m.\u001b[0m\u001b[0mpath\u001b[0m\u001b[0;34m.\u001b[0m\u001b[0mabspath\u001b[0m\u001b[0;34m(\u001b[0m\u001b[0;34m\"chromedriver.exe\"\u001b[0m\u001b[0;34m)\u001b[0m\u001b[0;34m)\u001b[0m \u001b[0;31m#For some reason, this is the only way I could get it to see the path\u001b[0m\u001b[0;34m\u001b[0m\u001b[0;34m\u001b[0m\u001b[0m\n\u001b[0m\u001b[1;32m      4\u001b[0m \u001b[0;34m\u001b[0m\u001b[0m\n\u001b[1;32m      5\u001b[0m \u001b[0mlogin_streamhatchet\u001b[0m\u001b[0;34m(\u001b[0m\u001b[0;34m)\u001b[0m\u001b[0;34m\u001b[0m\u001b[0;34m\u001b[0m\u001b[0m\n",
      "\u001b[0;32m~/.local/share/virtualenvs/ds_streamhatchet-8y_cdCbo/lib/python3.7/site-packages/selenium/webdriver/chrome/webdriver.py\u001b[0m in \u001b[0;36m__init__\u001b[0;34m(self, executable_path, port, options, service_args, desired_capabilities, service_log_path, chrome_options, keep_alive)\u001b[0m\n\u001b[1;32m     71\u001b[0m             \u001b[0mservice_args\u001b[0m\u001b[0;34m=\u001b[0m\u001b[0mservice_args\u001b[0m\u001b[0;34m,\u001b[0m\u001b[0;34m\u001b[0m\u001b[0;34m\u001b[0m\u001b[0m\n\u001b[1;32m     72\u001b[0m             log_path=service_log_path)\n\u001b[0;32m---> 73\u001b[0;31m         \u001b[0mself\u001b[0m\u001b[0;34m.\u001b[0m\u001b[0mservice\u001b[0m\u001b[0;34m.\u001b[0m\u001b[0mstart\u001b[0m\u001b[0;34m(\u001b[0m\u001b[0;34m)\u001b[0m\u001b[0;34m\u001b[0m\u001b[0;34m\u001b[0m\u001b[0m\n\u001b[0m\u001b[1;32m     74\u001b[0m \u001b[0;34m\u001b[0m\u001b[0m\n\u001b[1;32m     75\u001b[0m         \u001b[0;32mtry\u001b[0m\u001b[0;34m:\u001b[0m\u001b[0;34m\u001b[0m\u001b[0;34m\u001b[0m\u001b[0m\n",
      "\u001b[0;32m~/.local/share/virtualenvs/ds_streamhatchet-8y_cdCbo/lib/python3.7/site-packages/selenium/webdriver/common/service.py\u001b[0m in \u001b[0;36mstart\u001b[0;34m(self)\u001b[0m\n\u001b[1;32m     81\u001b[0m                 raise WebDriverException(\n\u001b[1;32m     82\u001b[0m                     \"'%s' executable needs to be in PATH. %s\" % (\n\u001b[0;32m---> 83\u001b[0;31m                         os.path.basename(self.path), self.start_error_message)\n\u001b[0m\u001b[1;32m     84\u001b[0m                 )\n\u001b[1;32m     85\u001b[0m             \u001b[0;32melif\u001b[0m \u001b[0merr\u001b[0m\u001b[0;34m.\u001b[0m\u001b[0merrno\u001b[0m \u001b[0;34m==\u001b[0m \u001b[0merrno\u001b[0m\u001b[0;34m.\u001b[0m\u001b[0mEACCES\u001b[0m\u001b[0;34m:\u001b[0m\u001b[0;34m\u001b[0m\u001b[0;34m\u001b[0m\u001b[0m\n",
      "\u001b[0;31mWebDriverException\u001b[0m: Message: 'chromedriver.exe' executable needs to be in PATH. Please see https://sites.google.com/a/chromium.org/chromedriver/home\n"
     ]
    }
   ],
   "source": [
    "df = []\n",
    "incomplete_queries_list = []\n",
    "driver = webdriver.Chrome(executable_path = os.path.abspath(\"chromedriver.exe\")) #For some reason, this is the only way I could get it to see the path\n",
    "\n",
    "login_streamhatchet()\n",
    "\n",
    "for word in words: #For each word\n",
    "    print(\"Starting \" + word) #Print out the word in Python so I know it's still running\n",
    "    num_titles, table_id = stream_title_search(word, incomplete_queries_list, df) #Runs script\n",
    "    for i in range(len(table_id))[0::6]: #Loops over six rows of information \n",
    "        if len(table_id) == 1: #If no results\n",
    "            stream_data = stream_data.append({'Word': word,\n",
    "                                              'Title': \"None\", #Adds unique users, streamers, and total views to data set\n",
    "                                              'Streamer': \"None\", \n",
    "                                              'Date': \"None\",\n",
    "                                              'Hours Watched': 0}, ignore_index = True)\n",
    "        else:\n",
    "            stream_data = stream_data.append({'Word': word, #adds word, stream title, streamer, date, and hours watched\n",
    "                                          'Title': table_id[i], \n",
    "                                          'Streamer': table_id[i+1], \n",
    "                                          'Date': table_id[i+2],\n",
    "                                          'Hours Watched': table_id[i+3]}, ignore_index = True)\n",
    "\n",
    "#df = pd.DataFrame(columns=['query', 'month', 'num_titles'])\n",
    "#incomplete_queries_list = []\n",
    "#driver = webdriver.Chrome()\n",
    "\n",
    "#login_streamhatchet()\n",
    "#stream_title_search(\"test\", incomplete_queries_list, df)"
   ]
  },
  {
   "cell_type": "code",
   "execution_count": null,
   "metadata": {
    "pycharm": {
     "name": "#%%\n"
    }
   },
   "outputs": [],
   "source": [
    "\n"
   ]
  }
 ],
 "metadata": {
  "kernelspec": {
   "display_name": "Python 3",
   "language": "python",
   "name": "python3"
  },
  "language_info": {
   "codemirror_mode": {
    "name": "ipython",
    "version": 3
   },
   "file_extension": ".py",
   "mimetype": "text/x-python",
   "name": "python",
   "nbconvert_exporter": "python",
   "pygments_lexer": "ipython3",
   "version": "3.7.3"
  },
  "pycharm": {
   "stem_cell": {
    "cell_type": "raw",
    "metadata": {
     "collapsed": false
    },
    "source": []
   }
  }
 },
 "nbformat": 4,
 "nbformat_minor": 2
}
