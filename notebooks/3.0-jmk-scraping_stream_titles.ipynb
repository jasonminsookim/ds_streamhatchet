{
 "cells": [
  {
   "cell_type": "markdown",
   "metadata": {
    "pycharm": {
     "name": "#%% md\n"
    }
   },
   "source": [
    "# 1. Libraries, Configuration, and Importing Queries"
   ]
  },
  {
   "cell_type": "markdown",
   "metadata": {
    "pycharm": {
     "name": "#%% md\n"
    }
   },
   "source": [
    "## 1.1 Libraries"
   ]
  },
  {
   "cell_type": "code",
   "execution_count": 184,
   "metadata": {
    "ExecuteTime": {
     "end_time": "2019-07-22T13:29:02.300677Z",
     "start_time": "2019-07-22T13:29:02.269084Z"
    },
    "pycharm": {
     "is_executing": false,
     "name": "#%%\n"
    }
   },
   "outputs": [],
   "source": [
    "# selenium specific imports\n",
    "from selenium import webdriver\n",
    "from selenium.webdriver.common.keys import Keys\n",
    "from selenium.webdriver.support.ui import WebDriverWait\n",
    "from selenium.webdriver.support import expected_conditions as EC\n",
    "from selenium.webdriver.common.by import By\n",
    "from selenium.common.exceptions import TimeoutException\n",
    "\n",
    "# other imports\n",
    "import configparser\n",
    "import time\n",
    "import pandas as pd\n",
    "import numpy as np\n",
    "from datetime import datetime"
   ]
  },
  {
   "cell_type": "markdown",
   "metadata": {},
   "source": [
    "## 1.2 Configuration"
   ]
  },
  {
   "cell_type": "code",
   "execution_count": 185,
   "metadata": {
    "ExecuteTime": {
     "end_time": "2019-07-22T13:29:02.589752Z",
     "start_time": "2019-07-22T13:29:02.573078Z"
    },
    "pycharm": {
     "name": "#%%\n"
    }
   },
   "outputs": [],
   "source": [
    "# configuration parser initialization\n",
    "config = configparser.ConfigParser()\n",
    "config.read('../config.ini')\n",
    "delay = 10 # waits for 10 seconds for the correct element to appeara"
   ]
  },
  {
   "cell_type": "markdown",
   "metadata": {},
   "source": [
    "## 1.3 Load csv of Brand Names Search Queries\n",
    "\n",
    "-  Brand queries in conjuction with slight modifications were systematically created by Catherine C. Pollack at Dartmouth College. "
   ]
  },
  {
   "cell_type": "code",
   "execution_count": 186,
   "metadata": {
    "ExecuteTime": {
     "end_time": "2019-07-22T13:29:02.923441Z",
     "start_time": "2019-07-22T13:29:02.838736Z"
    },
    "pycharm": {
     "name": "#%%\n"
    }
   },
   "outputs": [],
   "source": [
    "query_df = pd.read_csv(\"../data/queries/Final_Words_List.csv\")"
   ]
  },
  {
   "cell_type": "code",
   "execution_count": 187,
   "metadata": {
    "ExecuteTime": {
     "end_time": "2019-07-22T13:29:03.048719Z",
     "start_time": "2019-07-22T13:29:02.951089Z"
    },
    "pycharm": {
     "name": "#%%\n"
    }
   },
   "outputs": [
    {
     "data": {
      "text/html": [
       "<div>\n",
       "<style scoped>\n",
       "    .dataframe tbody tr th:only-of-type {\n",
       "        vertical-align: middle;\n",
       "    }\n",
       "\n",
       "    .dataframe tbody tr th {\n",
       "        vertical-align: top;\n",
       "    }\n",
       "\n",
       "    .dataframe thead th {\n",
       "        text-align: right;\n",
       "    }\n",
       "</style>\n",
       "<table border=\"1\" class=\"dataframe\">\n",
       "  <thead>\n",
       "    <tr style=\"text-align: right;\">\n",
       "      <th></th>\n",
       "      <th>search_query</th>\n",
       "    </tr>\n",
       "  </thead>\n",
       "  <tbody>\n",
       "    <tr>\n",
       "      <th>count</th>\n",
       "      <td>670</td>\n",
       "    </tr>\n",
       "    <tr>\n",
       "      <th>unique</th>\n",
       "      <td>670</td>\n",
       "    </tr>\n",
       "    <tr>\n",
       "      <th>top</th>\n",
       "      <td>RWKnudsen</td>\n",
       "    </tr>\n",
       "    <tr>\n",
       "      <th>freq</th>\n",
       "      <td>1</td>\n",
       "    </tr>\n",
       "  </tbody>\n",
       "</table>\n",
       "</div>"
      ],
      "text/plain": [
       "       search_query\n",
       "count           670\n",
       "unique          670\n",
       "top       RWKnudsen\n",
       "freq              1"
      ]
     },
     "execution_count": 187,
     "metadata": {},
     "output_type": "execute_result"
    }
   ],
   "source": [
    "query_df.describe()"
   ]
  },
  {
   "cell_type": "markdown",
   "metadata": {},
   "source": [
    "# 2. Custom Functions "
   ]
  },
  {
   "cell_type": "markdown",
   "metadata": {},
   "source": [
    "## 2.1 Login"
   ]
  },
  {
   "cell_type": "code",
   "execution_count": 188,
   "metadata": {
    "ExecuteTime": {
     "end_time": "2019-07-22T13:29:03.618366Z",
     "start_time": "2019-07-22T13:29:03.603535Z"
    }
   },
   "outputs": [],
   "source": [
    "def login_streamhatchet():\n",
    "    driver.get(\"https://app.streamhatchet.com/\")\n",
    "    driver.find_element_by_id(\"cookiesAccepted\").click()\n",
    "\n",
    "    username = driver.find_element_by_name(\"loginEmail\")\n",
    "    username.clear()\n",
    "    username.send_keys(config['login_credentials']['email'])\n",
    "\n",
    "    password = driver.find_element_by_name(\"loginPassword\")\n",
    "    password.clear()\n",
    "    password.send_keys(config['login_credentials']['password'])\n",
    "\n",
    "    driver.find_element_by_xpath(\"//button[contains(text(),'Login')]\").click()\n",
    "    time.sleep(3) # sleep for 3 seconds to let the page load"
   ]
  },
  {
   "cell_type": "markdown",
   "metadata": {},
   "source": [
    "## 2.1 Stream Title Search"
   ]
  },
  {
   "cell_type": "code",
   "execution_count": 189,
   "metadata": {
    "ExecuteTime": {
     "end_time": "2019-07-22T13:29:04.058719Z",
     "start_time": "2019-07-22T13:29:04.021282Z"
    }
   },
   "outputs": [],
   "source": [
    "def stream_title_search(query, incomplete_queries_list, df):\n",
    "    driver.get(\"https://app.streamhatchet.com/search/toolstatus\")\n",
    "    time.sleep(1)\n",
    "    \n",
    "    # Enters query into 'Stream title query'\n",
    "    stream_title_query_input = WebDriverWait(driver, delay).until(EC.element_to_be_clickable((By.XPATH,\"//input[@id='status-query']\")))\n",
    "    stream_title_query_input.send_keys(query)\n",
    "\n",
    "    # Makes twitch the only platform to search\n",
    "    platform_input = WebDriverWait(driver, delay).until(EC.element_to_be_clickable((By.XPATH,\"//input[@class='search']\")))\n",
    "    platform_input.click()\n",
    "    platform_input.send_keys(Keys.BACKSPACE)\n",
    "    platform_input.send_keys(Keys.BACKSPACE)\n",
    "    platform_input.send_keys(Keys.BACKSPACE)\n",
    "\n",
    "    # Click to Expand Date Options\n",
    "    driver.find_element_by_xpath(\"//div[@id='NewRangePicker']\").click()\n",
    "    \n",
    "    # change the hours and minutes to 0:00 for date from and to \n",
    "    driver.find_element_by_xpath(\"//div[@class='calendar left']//select[@class='hourselect']//option[1]\").click()\n",
    "    driver.find_element_by_xpath(\"//div[@class='calendar left']//option[contains(text(),'00')]\").click()\n",
    "    driver.find_element_by_xpath(\"//div[@class='calendar right']//select[@class='hourselect']//option[1]\").click()\n",
    "    driver.find_element_by_xpath(\"//div[@class='calendar right']//option[contains(text(),'00')]\").click()\n",
    "    \n",
    "    # Keep clicking on right_arrow\n",
    "    while driver.find_element_by_xpath(\"//i[@id='icon-down-New']\").is_displayed() == True:\n",
    "        try:\n",
    "            driver.find_element_by_xpath(\"//i[@class='fa fa-chevron-right glyphicon glyphicon-chevron-right']\").click()\n",
    "        except:\n",
    "            break\n",
    "                \n",
    "    \n",
    "    # Click on first day of the month:\n",
    "    driver.find_element_by_xpath(\"//div[@class='calendar left']//td[contains(text(), '1')]\").click()\n",
    "    time.sleep(5)\n",
    "    driver.find_element_by_xpath(\"//div[@class='calendar right']//td[contains(text(), '1')]\").click()\n",
    "    time.sleep(10)\n",
    "\n",
    "    # Runs the search\n",
    "    driver.find_element_by_xpath(\"//button[@class='applyBtn btn btn-sm btn-success ui google plus button']\").click()\n",
    "    run_button = WebDriverWait(driver, delay).until(EC.element_to_be_clickable((By.XPATH,\"//button[@class='medium ui google plus submit button']\")))\n",
    "    run_button.click()\n",
    "    \n",
    "    # Scrape the Number of Titles\n",
    "    num_titles = WebDriverWait(driver, delay).until(EC.visibility_of_element_located((By.XPATH,\"//p[@id='messages-count']\")))\n",
    "    num_titles = num_titles.text\n",
    "\n",
    "    # create a row_dict and append it to the df\n",
    "    row_dict = {\n",
    "        'query': query,\n",
    "        'month': \"Maybe May\",\n",
    "        'num_titles':num_titles\n",
    "    }\n",
    "\n",
    "    df = df.append(row_dict, ignore_index = True)\n",
    "\n",
    "        \n",
    "    incomplete_queries_list.append(query)\n",
    "        \n",
    "    return(df)\n",
    "    \n",
    "        "
   ]
  },
  {
   "cell_type": "markdown",
   "metadata": {},
   "source": [
    "# 3. Run Stream Titles Search"
   ]
  },
  {
   "cell_type": "code",
   "execution_count": null,
   "metadata": {
    "ExecuteTime": {
     "start_time": "2019-07-22T13:29:04.368Z"
    }
   },
   "outputs": [],
   "source": [
    "df = pd.DataFrame(columns=['query', 'month', 'num_titles'])\n",
    "incomplete_queries_list = []\n",
    "driver = webdriver.Chrome()\n",
    "\n",
    "login_streamhatchet()\n",
    "stream_title_search(\"test\", incomplete_queries_list, df)"
   ]
  }
 ],
 "metadata": {
  "kernelspec": {
   "display_name": "Python 3",
   "language": "python",
   "name": "python3"
  },
  "language_info": {
   "codemirror_mode": {
    "name": "ipython",
    "version": 3
   },
   "file_extension": ".py",
   "mimetype": "text/x-python",
   "name": "python",
   "nbconvert_exporter": "python",
   "pygments_lexer": "ipython3",
   "version": "3.7.3"
  },
  "pycharm": {
   "stem_cell": {
    "cell_type": "raw",
    "metadata": {
     "collapsed": false
    },
    "source": []
   }
  }
 },
 "nbformat": 4,
 "nbformat_minor": 2
}
