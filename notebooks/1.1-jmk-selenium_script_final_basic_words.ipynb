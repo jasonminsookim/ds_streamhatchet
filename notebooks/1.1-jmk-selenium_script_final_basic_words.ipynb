{
 "cells": [
  {
   "cell_type": "markdown",
   "metadata": {},
   "source": [
    "# 1. Libraries, Configuration, and Importing Queries"
   ]
  },
  {
   "cell_type": "markdown",
   "metadata": {},
   "source": [
    "## 1.1 Libraries"
   ]
  },
  {
   "cell_type": "code",
   "execution_count": 14,
   "metadata": {
    "ExecuteTime": {
     "end_time": "2019-09-08T03:29:18.337337Z",
     "start_time": "2019-09-08T03:29:18.332008Z"
    }
   },
   "outputs": [],
   "source": [
    "# selenium specific imports\n",
    "from selenium import webdriver\n",
    "from selenium.webdriver.support.ui import WebDriverWait\n",
    "from selenium.webdriver.support import expected_conditions as EC\n",
    "from selenium.webdriver.common.by import By\n",
    "from selenium.common.exceptions import TimeoutException\n",
    "\n",
    "# other imports\n",
    "import configparser\n",
    "import time\n",
    "import pandas as pd\n",
    "import numpy as np\n",
    "from datetime import datetime"
   ]
  },
  {
   "cell_type": "markdown",
   "metadata": {},
   "source": [
    "## 1.2 Configuration"
   ]
  },
  {
   "cell_type": "code",
   "execution_count": 15,
   "metadata": {
    "ExecuteTime": {
     "end_time": "2019-09-08T03:29:18.694389Z",
     "start_time": "2019-09-08T03:29:18.686027Z"
    }
   },
   "outputs": [],
   "source": [
    "# configuration parser initialization\n",
    "config = configparser.ConfigParser()\n",
    "config.read('../config.ini')\n",
    "delay = 10 # waits for 10 seconds for the correct element to appeara"
   ]
  },
  {
   "cell_type": "markdown",
   "metadata": {},
   "source": [
    "## 1.3 Load csv of Brand Names Search Queries\n",
    "\n",
    "-  Brand queries in conjuction with slight modifications were systematically created by Catherine C. Pollack at Dartmouth College. "
   ]
  },
  {
   "cell_type": "code",
   "execution_count": 16,
   "metadata": {
    "ExecuteTime": {
     "end_time": "2019-09-08T03:29:19.008709Z",
     "start_time": "2019-09-08T03:29:18.992050Z"
    }
   },
   "outputs": [],
   "source": [
    "query_df = pd.read_csv(\"../data/queries/Final_Words_List.csv\")"
   ]
  },
  {
   "cell_type": "code",
   "execution_count": 17,
   "metadata": {
    "ExecuteTime": {
     "end_time": "2019-09-08T03:29:19.318872Z",
     "start_time": "2019-09-08T03:29:19.298449Z"
    }
   },
   "outputs": [
    {
     "data": {
      "text/html": [
       "<div>\n",
       "<style scoped>\n",
       "    .dataframe tbody tr th:only-of-type {\n",
       "        vertical-align: middle;\n",
       "    }\n",
       "\n",
       "    .dataframe tbody tr th {\n",
       "        vertical-align: top;\n",
       "    }\n",
       "\n",
       "    .dataframe thead th {\n",
       "        text-align: right;\n",
       "    }\n",
       "</style>\n",
       "<table border=\"1\" class=\"dataframe\">\n",
       "  <thead>\n",
       "    <tr style=\"text-align: right;\">\n",
       "      <th></th>\n",
       "      <th>search_query</th>\n",
       "    </tr>\n",
       "  </thead>\n",
       "  <tbody>\n",
       "    <tr>\n",
       "      <th>count</th>\n",
       "      <td>670</td>\n",
       "    </tr>\n",
       "    <tr>\n",
       "      <th>unique</th>\n",
       "      <td>670</td>\n",
       "    </tr>\n",
       "    <tr>\n",
       "      <th>top</th>\n",
       "      <td>Mike's Hard Lemonade</td>\n",
       "    </tr>\n",
       "    <tr>\n",
       "      <th>freq</th>\n",
       "      <td>1</td>\n",
       "    </tr>\n",
       "  </tbody>\n",
       "</table>\n",
       "</div>"
      ],
      "text/plain": [
       "                search_query\n",
       "count                    670\n",
       "unique                   670\n",
       "top     Mike's Hard Lemonade\n",
       "freq                       1"
      ]
     },
     "execution_count": 17,
     "metadata": {},
     "output_type": "execute_result"
    }
   ],
   "source": [
    "query_df.describe()"
   ]
  },
  {
   "cell_type": "markdown",
   "metadata": {},
   "source": [
    "# 2. Custom Functions "
   ]
  },
  {
   "cell_type": "markdown",
   "metadata": {},
   "source": [
    "## 2.1 Profile Search (Advanced)\n",
    "\n",
    "- None of the search terms are case sensitive\n"
   ]
  },
  {
   "cell_type": "code",
   "execution_count": 28,
   "metadata": {
    "ExecuteTime": {
     "end_time": "2019-09-08T03:38:59.938471Z",
     "start_time": "2019-09-08T03:38:59.918955Z"
    }
   },
   "outputs": [],
   "source": [
    "def advanced_profile_search(scraped_data_df, query, num_months):    \n",
    "    \n",
    "    try:\n",
    "        driver.get(\"https://app.streamhatchet.com/search/profilesearch\")\n",
    "        time.sleep(5)\n",
    "        \n",
    "        # click on advanced search and monthly data\n",
    "        advanced_search_element = WebDriverWait(driver, delay).until(EC.element_to_be_clickable((By.XPATH,\"//a[contains(text(),'Advanced')]\")))\n",
    "        advanced_search_element.click()\n",
    "\n",
    "        # Ensures the data is from the most recent available\n",
    "        driver.find_element_by_xpath(\"//button[@class='ui icon button time_monthly']//i[@class='right arrow icon']\").click()\n",
    "\n",
    "        # Enters the query into the must_have element\n",
    "        must_have_element = driver.find_element_by_id(\"chatKeywordsANDCurrent\")\n",
    "        must_have_element.send_keys(query)\n",
    "        driver.find_element_by_xpath(\"//div[@id='chatkeywordANDAdd']//i[@class='plus icon']\").click()\n",
    "\n",
    "        # Month by month iteration for obtaining metrics\n",
    "        for month_ind in range(0, num_months):\n",
    "\n",
    "            search_element = WebDriverWait(driver, 10).until(EC.element_to_be_clickable((By.XPATH, \"//button[@class='large ui google plus button buttonDescription']\")))\n",
    "            search_element.click()\n",
    "\n",
    "            body_element = driver.find_element_by_xpath(\"//html//body\")\n",
    "            WebDriverWait(driver, 60).until(lambda d: 'removeScroll' not in body_element.get_attribute('class'))\n",
    "\n",
    "            month = driver.find_element_by_id(\"monthly_label\").text\n",
    "            unique_channels = driver.find_element_by_id(\"totalChannelsFound\").get_attribute(\"title\")\n",
    "            new_views = driver.find_element_by_id(\"topStatsNewViews\").get_attribute(\"title\")\n",
    "            hours_watched = driver.find_element_by_id(\"topStatsTimeWatched\").get_attribute(\"title\")\n",
    "\n",
    "            last_row_ind = len(scraped_data_df)  \n",
    "\n",
    "            # Add data to the bottom row of the dataframe\n",
    "            row_dict = {\n",
    "                'query': query,\n",
    "                'month': month,\n",
    "                'unique_channels': unique_channels,\n",
    "                'new_views': new_views,\n",
    "                'hours_watched': hours_watched\n",
    "            }\n",
    "\n",
    "            scraped_data_df = scraped_data_df.append(row_dict, ignore_index = True)\n",
    "\n",
    "            # If the data is the same month-to-month (Indicative of reaching date range limitation), then exit the loop\n",
    "            if sum(scraped_data_df.duplicated()) != 0:\n",
    "                scraped_data_df = scraped_data_df[:-1]\n",
    "                break\n",
    "            try:\n",
    "                left_arrow_element = WebDriverWait(driver, 5).until(EC.element_to_be_clickable((By.XPATH, \"//button[@class='ui icon button time_monthly left']//i[@class='left arrow icon']\")))\n",
    "                left_arrow_element.click()\n",
    "            except:\n",
    "                month = driver.find_element_by_id(\"monthly_label\").text\n",
    "                print(\"Left arrow was not clickable for \" + query + \" \" + month)\n",
    "\n",
    "\n",
    "    except:\n",
    "        month = driver.find_element_by_id(\"monthly_label\").text\n",
    "        print(\"Had a timeout exception for \" + query + \" \" + month)\n",
    "            \n",
    "    return(scraped_data_df)"
   ]
  },
  {
   "cell_type": "markdown",
   "metadata": {},
   "source": [
    "# 3. Login "
   ]
  },
  {
   "cell_type": "code",
   "execution_count": 29,
   "metadata": {
    "ExecuteTime": {
     "end_time": "2019-09-08T03:39:10.521738Z",
     "start_time": "2019-09-08T03:39:00.304306Z"
    }
   },
   "outputs": [],
   "source": [
    "driver = webdriver.Chrome()\n",
    "driver.get(\"https://app.streamhatchet.com/\")\n",
    "driver.find_element_by_id(\"cookiesAccepted\").click()\n",
    "\n",
    "username = driver.find_element_by_name(\"loginEmail\")\n",
    "username.clear()\n",
    "username.send_keys(config['login_credentials']['email'])\n",
    "\n",
    "password = driver.find_element_by_name(\"loginPassword\")\n",
    "password.clear()\n",
    "password.send_keys(config['login_credentials']['password'])\n",
    "\n",
    "driver.find_element_by_xpath(\"//button[contains(text(),'Login')]\").click()\n",
    "time.sleep(3) # sleep for 3 seconds to let the page load"
   ]
  },
  {
   "cell_type": "markdown",
   "metadata": {},
   "source": [
    "# 4. Profile Search Using Final Basic Words(fbw) "
   ]
  },
  {
   "cell_type": "code",
   "execution_count": null,
   "metadata": {
    "ExecuteTime": {
     "start_time": "2019-09-08T03:39:00.927Z"
    }
   },
   "outputs": [],
   "source": [
    "fbw_scaped_df = pd.DataFrame(columns=['query', 'month','unique_channels',\n",
    "                                        'new_views', 'hours_watched'])\n",
    "\n",
    "for index, row in query_df.iterrows():    \n",
    "    query = row['search_query']\n",
    "    fbw_scaped_df = advanced_profile_search(fbw_scaped_df, query, 24)\n",
    "    # Comment out this line for full data"
   ]
  },
  {
   "cell_type": "code",
   "execution_count": null,
   "metadata": {
    "ExecuteTime": {
     "start_time": "2019-09-08T03:39:01.546Z"
    }
   },
   "outputs": [],
   "source": [
    "fbw_scaped_df"
   ]
  },
  {
   "cell_type": "code",
   "execution_count": null,
   "metadata": {
    "ExecuteTime": {
     "start_time": "2019-09-08T03:39:01.930Z"
    }
   },
   "outputs": [],
   "source": [
    "fbw_scaped_df.to_csv(\"../data/scraped_data/fbw_scraped_data.csv\")"
   ]
  },
  {
   "cell_type": "markdown",
   "metadata": {},
   "source": [
    "# 5. Validate Data Scrape"
   ]
  },
  {
   "cell_type": "code",
   "execution_count": 30,
   "metadata": {
    "ExecuteTime": {
     "end_time": "2019-07-15T16:29:35.522664Z",
     "start_time": "2019-07-15T16:29:35.503881Z"
    }
   },
   "outputs": [
    {
     "data": {
      "text/html": [
       "<div>\n",
       "<style scoped>\n",
       "    .dataframe tbody tr th:only-of-type {\n",
       "        vertical-align: middle;\n",
       "    }\n",
       "\n",
       "    .dataframe tbody tr th {\n",
       "        vertical-align: top;\n",
       "    }\n",
       "\n",
       "    .dataframe thead th {\n",
       "        text-align: right;\n",
       "    }\n",
       "</style>\n",
       "<table border=\"1\" class=\"dataframe\">\n",
       "  <thead>\n",
       "    <tr style=\"text-align: right;\">\n",
       "      <th></th>\n",
       "      <th>query</th>\n",
       "      <th>month</th>\n",
       "      <th>unique_channels</th>\n",
       "      <th>new_views</th>\n",
       "      <th>hours_watched</th>\n",
       "    </tr>\n",
       "  </thead>\n",
       "  <tbody>\n",
       "    <tr>\n",
       "      <th>0</th>\n",
       "      <td>General Mills</td>\n",
       "      <td>May 2019</td>\n",
       "      <td>2</td>\n",
       "      <td>521</td>\n",
       "      <td>138</td>\n",
       "    </tr>\n",
       "    <tr>\n",
       "      <th>1</th>\n",
       "      <td>General Mills</td>\n",
       "      <td>April 2019</td>\n",
       "      <td>2</td>\n",
       "      <td>5</td>\n",
       "      <td>8</td>\n",
       "    </tr>\n",
       "    <tr>\n",
       "      <th>2</th>\n",
       "      <td>General Mills</td>\n",
       "      <td>March 2019</td>\n",
       "      <td>1</td>\n",
       "      <td>100</td>\n",
       "      <td>97</td>\n",
       "    </tr>\n",
       "    <tr>\n",
       "      <th>3</th>\n",
       "      <td>General Mills</td>\n",
       "      <td>February 2019</td>\n",
       "      <td>1</td>\n",
       "      <td>1,109</td>\n",
       "      <td>544</td>\n",
       "    </tr>\n",
       "    <tr>\n",
       "      <th>4</th>\n",
       "      <td>General Mills</td>\n",
       "      <td>January 2019</td>\n",
       "      <td>0</td>\n",
       "      <td>0</td>\n",
       "      <td>0</td>\n",
       "    </tr>\n",
       "  </tbody>\n",
       "</table>\n",
       "</div>"
      ],
      "text/plain": [
       "           query          month unique_channels new_views hours_watched\n",
       "0  General Mills       May 2019               2       521           138\n",
       "1  General Mills     April 2019               2         5             8\n",
       "2  General Mills     March 2019               1       100            97\n",
       "3  General Mills  February 2019               1     1,109           544\n",
       "4  General Mills   January 2019               0         0             0"
      ]
     },
     "execution_count": 30,
     "metadata": {},
     "output_type": "execute_result"
    }
   ],
   "source": [
    "fbw_scaped_df.head()"
   ]
  },
  {
   "cell_type": "code",
   "execution_count": 31,
   "metadata": {
    "ExecuteTime": {
     "end_time": "2019-07-15T16:29:35.757994Z",
     "start_time": "2019-07-15T16:29:35.747977Z"
    }
   },
   "outputs": [],
   "source": [
    "value_counts = fbw_scaped_df['query'].value_counts()"
   ]
  },
  {
   "cell_type": "code",
   "execution_count": 32,
   "metadata": {
    "ExecuteTime": {
     "end_time": "2019-07-15T16:29:35.950071Z",
     "start_time": "2019-07-15T16:29:35.942592Z"
    }
   },
   "outputs": [],
   "source": [
    "partial_search_query = value_counts[value_counts != 20]"
   ]
  }
 ],
 "metadata": {
  "kernelspec": {
   "display_name": "Python 3",
   "language": "python",
   "name": "python3"
  },
  "language_info": {
   "codemirror_mode": {
    "name": "ipython",
    "version": 3
   },
   "file_extension": ".py",
   "mimetype": "text/x-python",
   "name": "python",
   "nbconvert_exporter": "python",
   "pygments_lexer": "ipython3",
   "version": "3.7.3"
  }
 },
 "nbformat": 4,
 "nbformat_minor": 2
}
